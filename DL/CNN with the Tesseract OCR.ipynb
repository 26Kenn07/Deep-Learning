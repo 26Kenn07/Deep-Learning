{
 "cells": [
  {
   "cell_type": "code",
   "execution_count": 2,
   "id": "9a220c98",
   "metadata": {},
   "outputs": [],
   "source": [
    "import cv2\n",
    "import numpy as np\n",
    "import pytesseract\n",
    "from sklearn.model_selection import train_test_split\n",
    "import tensorflow as tf\n",
    "from tensorflow.keras import layers, models"
   ]
  },
  {
   "cell_type": "code",
   "execution_count": 3,
   "id": "febc9a55",
   "metadata": {},
   "outputs": [],
   "source": [
    "directory = '/Users/kirtan/Downloads/archive (12)/shapes'"
   ]
  },
  {
   "cell_type": "code",
   "execution_count": 4,
   "id": "76e7c9d8",
   "metadata": {},
   "outputs": [],
   "source": [
    "images = []\n",
    "labels = []\n",
    "texts = []"
   ]
  },
  {
   "cell_type": "code",
   "execution_count": 5,
   "id": "ed2e24bf",
   "metadata": {},
   "outputs": [],
   "source": [
    "shapes = ['circle', 'square', 'star', 'triangle']\n",
    "num_classes = len(shapes)\n"
   ]
  },
  {
   "cell_type": "code",
   "execution_count": 6,
   "id": "0cdf95d7",
   "metadata": {},
   "outputs": [],
   "source": [
    "import os\n",
    "import pytesseract\n",
    "\n",
    "tesseract_path = '/opt/homebrew/bin/tesseract'  # Path to the Tesseract executable\n",
    "tessdata_dir = '/opt/homebrew/share/tessdata'  # Path to the tessdata directory\n",
    "\n",
    "def extract_text1(image):\n",
    "    gray = cv2.cvtColor(image, cv2.COLOR_BGR2GRAY)\n",
    "    text = pytesseract.image_to_string(gray)\n",
    "    return text\n",
    "\n",
    "os.environ['TESSDATA_PREFIX'] = tessdata_dir\n",
    "pytesseract.pytesseract.tesseract_cmd = tesseract_path\n",
    "\n",
    "for shape in shapes:\n",
    "    shape_dir = f\"{directory}/{shape}\"\n",
    "    class_label = shapes.index(shape)\n",
    "    for i in range(500):\n",
    "        image_path = f\"{shape_dir}/{i}.png\"\n",
    "        image = cv2.imread(image_path)\n",
    "        text = extract_text1(image)\n",
    "        images.append(image)\n",
    "        labels.append(class_label)\n",
    "        texts.append(text)\n"
   ]
  },
  {
   "cell_type": "code",
   "execution_count": 7,
   "id": "2b9f6a20",
   "metadata": {},
   "outputs": [],
   "source": [
    "images = np.array(images)\n",
    "labels = np.array(labels)\n",
    "texts = np.array(texts)"
   ]
  },
  {
   "cell_type": "code",
   "execution_count": 11,
   "id": "aa5b5385",
   "metadata": {},
   "outputs": [],
   "source": [
    "X_train, X_test, y_train, y_test, text_train, text_test = train_test_split(\n",
    "    images, labels, texts, test_size=0.2, random_state=42)"
   ]
  },
  {
   "cell_type": "code",
   "execution_count": 12,
   "id": "64c0512a",
   "metadata": {},
   "outputs": [],
   "source": [
    "X_train = X_train.astype('float32') / 255.0\n",
    "X_test = X_test.astype('float32') / 255.0"
   ]
  },
  {
   "cell_type": "code",
   "execution_count": 13,
   "id": "de13db5c",
   "metadata": {},
   "outputs": [],
   "source": [
    "y_train = tf.keras.utils.to_categorical(y_train, num_classes)\n",
    "y_test = tf.keras.utils.to_categorical(y_test, num_classes)"
   ]
  },
  {
   "cell_type": "code",
   "execution_count": 14,
   "id": "f95c83f3",
   "metadata": {},
   "outputs": [
    {
     "name": "stderr",
     "output_type": "stream",
     "text": [
      "2023-05-19 17:58:36.806513: I tensorflow/core/platform/cpu_feature_guard.cc:193] This TensorFlow binary is optimized with oneAPI Deep Neural Network Library (oneDNN) to use the following CPU instructions in performance-critical operations:  SSE4.1 SSE4.2\n",
      "To enable them in other operations, rebuild TensorFlow with the appropriate compiler flags.\n"
     ]
    }
   ],
   "source": [
    "model = models.Sequential()\n",
    "model.add(layers.Conv2D(32, (3, 3), activation='relu', input_shape=X_train.shape[1:]))\n",
    "model.add(layers.MaxPooling2D((2, 2)))\n",
    "model.add(layers.Conv2D(64, (3, 3), activation='relu'))\n",
    "model.add(layers.MaxPooling2D((2, 2)))\n",
    "model.add(layers.Conv2D(64, (3, 3), activation='relu'))\n",
    "model.add(layers.Flatten())\n",
    "model.add(layers.Dense(64, activation='relu'))\n",
    "model.add(layers.Dense(num_classes, activation='softmax'))"
   ]
  },
  {
   "cell_type": "code",
   "execution_count": 15,
   "id": "fccb9b45",
   "metadata": {},
   "outputs": [],
   "source": [
    "model.compile(optimizer='adam', loss='categorical_crossentropy', metrics=['accuracy'])\n"
   ]
  },
  {
   "cell_type": "code",
   "execution_count": 16,
   "id": "32c03206",
   "metadata": {},
   "outputs": [
    {
     "name": "stdout",
     "output_type": "stream",
     "text": [
      "Epoch 1/10\n",
      "50/50 [==============================] - 70s 1s/step - loss: 0.3223 - accuracy: 0.8931 - val_loss: 0.0295 - val_accuracy: 0.9950\n",
      "Epoch 2/10\n",
      "50/50 [==============================] - 65s 1s/step - loss: 0.0050 - accuracy: 0.9981 - val_loss: 7.9285e-04 - val_accuracy: 1.0000\n",
      "Epoch 3/10\n",
      "50/50 [==============================] - 99s 2s/step - loss: 1.7191e-04 - accuracy: 1.0000 - val_loss: 5.5601e-05 - val_accuracy: 1.0000\n",
      "Epoch 4/10\n",
      "50/50 [==============================] - 91s 2s/step - loss: 3.7149e-05 - accuracy: 1.0000 - val_loss: 2.9003e-05 - val_accuracy: 1.0000\n",
      "Epoch 5/10\n",
      "50/50 [==============================] - 74s 1s/step - loss: 2.2354e-05 - accuracy: 1.0000 - val_loss: 1.8624e-05 - val_accuracy: 1.0000\n",
      "Epoch 6/10\n",
      "50/50 [==============================] - 67s 1s/step - loss: 1.4763e-05 - accuracy: 1.0000 - val_loss: 1.2526e-05 - val_accuracy: 1.0000\n",
      "Epoch 7/10\n",
      "50/50 [==============================] - 64s 1s/step - loss: 1.0549e-05 - accuracy: 1.0000 - val_loss: 9.4461e-06 - val_accuracy: 1.0000\n",
      "Epoch 8/10\n",
      "50/50 [==============================] - 80s 2s/step - loss: 8.0733e-06 - accuracy: 1.0000 - val_loss: 7.3430e-06 - val_accuracy: 1.0000\n",
      "Epoch 9/10\n",
      "50/50 [==============================] - 68s 1s/step - loss: 6.3039e-06 - accuracy: 1.0000 - val_loss: 5.8900e-06 - val_accuracy: 1.0000\n",
      "Epoch 10/10\n",
      "50/50 [==============================] - 66s 1s/step - loss: 5.1024e-06 - accuracy: 1.0000 - val_loss: 4.6632e-06 - val_accuracy: 1.0000\n"
     ]
    },
    {
     "data": {
      "text/plain": [
       "<keras.callbacks.History at 0x7f9aba1f7370>"
      ]
     },
     "execution_count": 16,
     "metadata": {},
     "output_type": "execute_result"
    }
   ],
   "source": [
    "model.fit(X_train, y_train, epochs=10, batch_size=32, validation_data=(X_test, y_test))"
   ]
  },
  {
   "cell_type": "code",
   "execution_count": 17,
   "id": "964a63d2",
   "metadata": {},
   "outputs": [
    {
     "name": "stdout",
     "output_type": "stream",
     "text": [
      "13/13 [==============================] - 5s 362ms/step - loss: 4.6632e-06 - accuracy: 1.0000\n",
      "Test Loss: 0.0000\n",
      "Test Accuracy: 1.0000\n"
     ]
    }
   ],
   "source": [
    "loss, accuracy = model.evaluate(X_test, y_test)\n",
    "print(f'Test Loss: {loss:.4f}')\n",
    "print(f'Test Accuracy: {accuracy:.4f}')"
   ]
  },
  {
   "cell_type": "code",
   "execution_count": 19,
   "id": "a2628c07",
   "metadata": {},
   "outputs": [
    {
     "name": "stdout",
     "output_type": "stream",
     "text": [
      "1/1 [==============================] - 0s 253ms/step\n",
      "Predicted shape: star\n"
     ]
    }
   ],
   "source": [
    "new_image_path = \"/Users/kirtan/Downloads/new_star.png\"\n",
    "new_image = cv2.imread(new_image_path)\n",
    "new_image = cv2.resize(new_image, (200, 200))  \n",
    "new_image = new_image.astype('float32') / 255.0\n",
    "new_image = np.expand_dims(new_image, axis=0)\n",
    "\n",
    "\n",
    "prediction = model.predict(new_image)\n",
    "\n",
    "\n",
    "predicted_class_index = np.argmax(prediction)\n",
    "predicted_shape = shapes[predicted_class_index]\n",
    "\n",
    "print(f\"Predicted shape: {predicted_shape}\")\n"
   ]
  },
  {
   "cell_type": "code",
   "execution_count": null,
   "id": "aa40db3a",
   "metadata": {},
   "outputs": [],
   "source": []
  }
 ],
 "metadata": {
  "kernelspec": {
   "display_name": "Python 3 (ipykernel)",
   "language": "python",
   "name": "python3"
  },
  "language_info": {
   "codemirror_mode": {
    "name": "ipython",
    "version": 3
   },
   "file_extension": ".py",
   "mimetype": "text/x-python",
   "name": "python",
   "nbconvert_exporter": "python",
   "pygments_lexer": "ipython3",
   "version": "3.10.9"
  }
 },
 "nbformat": 4,
 "nbformat_minor": 5
}
