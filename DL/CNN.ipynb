{
 "cells": [
  {
   "cell_type": "code",
   "execution_count": 2,
   "id": "f5539d3e",
   "metadata": {},
   "outputs": [],
   "source": [
    "import cv2\n",
    "import numpy as np\n",
    "from sklearn.model_selection import train_test_split\n",
    "import tensorflow as tf\n",
    "from tensorflow.keras import layers, models"
   ]
  },
  {
   "cell_type": "code",
   "execution_count": 3,
   "id": "1460927f",
   "metadata": {},
   "outputs": [],
   "source": [
    "directory = '/Users/kirtan/Downloads/archive (12)/shapes'"
   ]
  },
  {
   "cell_type": "code",
   "execution_count": 4,
   "id": "42d170ce",
   "metadata": {},
   "outputs": [],
   "source": [
    "images = []\n",
    "labels = []"
   ]
  },
  {
   "cell_type": "code",
   "execution_count": 5,
   "id": "bcc45f06",
   "metadata": {},
   "outputs": [],
   "source": [
    "shapes = ['circle', 'square', 'star', 'triangle']\n",
    "num_classes = len(shapes)"
   ]
  },
  {
   "cell_type": "code",
   "execution_count": 6,
   "id": "68224826",
   "metadata": {},
   "outputs": [],
   "source": [
    "for shape in shapes:\n",
    "    shape_dir = f\"{directory}/{shape}\"\n",
    "    class_label = shapes.index(shape)\n",
    "    for i in range(500):\n",
    "        image_path = f\"{shape_dir}/{i}.png\"\n",
    "        image = cv2.imread(image_path)\n",
    "        images.append(image)\n",
    "        labels.append(class_label)"
   ]
  },
  {
   "cell_type": "code",
   "execution_count": 7,
   "id": "29d31a46",
   "metadata": {},
   "outputs": [],
   "source": [
    "images = np.array(images)\n",
    "labels = np.array(labels)"
   ]
  },
  {
   "cell_type": "code",
   "execution_count": 8,
   "id": "dbdee84e",
   "metadata": {},
   "outputs": [],
   "source": [
    "X_train, X_test, y_train, y_test = train_test_split(images, labels, test_size=0.2, random_state=42)"
   ]
  },
  {
   "cell_type": "code",
   "execution_count": 9,
   "id": "d742509b",
   "metadata": {},
   "outputs": [],
   "source": [
    "X_train = X_train.astype('float32') / 255.0\n",
    "X_test = X_test.astype('float32') / 255.0\n",
    "\n",
    "y_train = tf.keras.utils.to_categorical(y_train, num_classes)\n",
    "y_test = tf.keras.utils.to_categorical(y_test, num_classes)"
   ]
  },
  {
   "cell_type": "code",
   "execution_count": 11,
   "id": "7c5bd768",
   "metadata": {},
   "outputs": [],
   "source": [
    "model = models.Sequential()\n",
    "model.add(layers.Conv2D(32, (3, 3), activation='relu', input_shape=X_train.shape[1:]))\n",
    "model.add(layers.MaxPooling2D((2, 2)))\n",
    "model.add(layers.Conv2D(64, (3, 3), activation='relu'))\n",
    "model.add(layers.MaxPooling2D((2, 2)))\n",
    "model.add(layers.Conv2D(64, (3, 3), activation='relu'))\n",
    "model.add(layers.Flatten())\n",
    "model.add(layers.Dense(64, activation='relu'))\n",
    "model.add(layers.Dense(num_classes, activation='softmax'))"
   ]
  },
  {
   "cell_type": "code",
   "execution_count": 12,
   "id": "e97bcd9f",
   "metadata": {},
   "outputs": [],
   "source": [
    "model.compile(optimizer='adam', loss='categorical_crossentropy', metrics=['accuracy'])"
   ]
  },
  {
   "cell_type": "code",
   "execution_count": 13,
   "id": "6f6f7a4c",
   "metadata": {},
   "outputs": [
    {
     "name": "stdout",
     "output_type": "stream",
     "text": [
      "Epoch 1/10\n",
      "50/50 [==============================] - 159s 3s/step - loss: 0.4656 - accuracy: 0.8769 - val_loss: 0.0151 - val_accuracy: 0.9975\n",
      "Epoch 2/10\n",
      "50/50 [==============================] - 132s 3s/step - loss: 0.0015 - accuracy: 0.9994 - val_loss: 3.0856e-05 - val_accuracy: 1.0000\n",
      "Epoch 3/10\n",
      "50/50 [==============================] - 113s 2s/step - loss: 2.5887e-05 - accuracy: 1.0000 - val_loss: 1.1433e-05 - val_accuracy: 1.0000\n",
      "Epoch 4/10\n",
      "50/50 [==============================] - 91s 2s/step - loss: 1.2061e-05 - accuracy: 1.0000 - val_loss: 7.3908e-06 - val_accuracy: 1.0000\n",
      "Epoch 5/10\n",
      "50/50 [==============================] - 69s 1s/step - loss: 8.5527e-06 - accuracy: 1.0000 - val_loss: 5.9848e-06 - val_accuracy: 1.0000\n",
      "Epoch 6/10\n",
      "50/50 [==============================] - 65s 1s/step - loss: 7.6872e-06 - accuracy: 1.0000 - val_loss: 4.6813e-06 - val_accuracy: 1.0000\n",
      "Epoch 7/10\n",
      "50/50 [==============================] - 91s 2s/step - loss: 5.3600e-06 - accuracy: 1.0000 - val_loss: 3.8926e-06 - val_accuracy: 1.0000\n",
      "Epoch 8/10\n",
      "50/50 [==============================] - 67s 1s/step - loss: 4.2160e-06 - accuracy: 1.0000 - val_loss: 2.8722e-06 - val_accuracy: 1.0000\n",
      "Epoch 9/10\n",
      "50/50 [==============================] - 87s 2s/step - loss: 3.0926e-06 - accuracy: 1.0000 - val_loss: 2.4229e-06 - val_accuracy: 1.0000\n",
      "Epoch 10/10\n",
      "50/50 [==============================] - 65s 1s/step - loss: 2.4978e-06 - accuracy: 1.0000 - val_loss: 1.8974e-06 - val_accuracy: 1.0000\n"
     ]
    },
    {
     "data": {
      "text/plain": [
       "<keras.callbacks.History at 0x7f9af011f1f0>"
      ]
     },
     "execution_count": 13,
     "metadata": {},
     "output_type": "execute_result"
    }
   ],
   "source": [
    "model.fit(X_train, y_train, epochs=10, batch_size=32, validation_data=(X_test, y_test))"
   ]
  },
  {
   "cell_type": "code",
   "execution_count": 20,
   "id": "2d5f5d2c",
   "metadata": {},
   "outputs": [
    {
     "name": "stdout",
     "output_type": "stream",
     "text": [
      "13/13 [==============================] - 5s 358ms/step - loss: 1.8974e-06 - accuracy: 1.0000\n",
      "Test Loss: 0.0000\n",
      "Test Accuracy: 1.0000\n"
     ]
    }
   ],
   "source": [
    "loss, accuracy = model.evaluate(X_test, y_test)\n",
    "print(f'Test Loss: {loss:.4f}')\n",
    "print(f'Test Accuracy: {accuracy:.4f}')"
   ]
  },
  {
   "cell_type": "code",
   "execution_count": 21,
   "id": "987d2169",
   "metadata": {},
   "outputs": [
    {
     "name": "stdout",
     "output_type": "stream",
     "text": [
      "1/1 [==============================] - 0s 51ms/step\n",
      "Predicted shape: star\n"
     ]
    }
   ],
   "source": [
    "new_image_path = \"/Users/kirtan/Downloads/new_star.png\"\n",
    "new_image = cv2.imread(new_image_path)\n",
    "new_image = cv2.resize(new_image, (200, 200))  \n",
    "new_image = new_image.astype('float32') / 255.0\n",
    "new_image = np.expand_dims(new_image, axis=0)\n",
    "\n",
    "\n",
    "prediction = model.predict(new_image)\n",
    "\n",
    "\n",
    "predicted_class_index = np.argmax(prediction)\n",
    "predicted_shape = shapes[predicted_class_index]\n",
    "\n",
    "print(f\"Predicted shape: {predicted_shape}\")\n"
   ]
  },
  {
   "cell_type": "code",
   "execution_count": null,
   "id": "4c5b2e24",
   "metadata": {},
   "outputs": [],
   "source": []
  }
 ],
 "metadata": {
  "kernelspec": {
   "display_name": "Python 3 (ipykernel)",
   "language": "python",
   "name": "python3"
  },
  "language_info": {
   "codemirror_mode": {
    "name": "ipython",
    "version": 3
   },
   "file_extension": ".py",
   "mimetype": "text/x-python",
   "name": "python",
   "nbconvert_exporter": "python",
   "pygments_lexer": "ipython3",
   "version": "3.10.9"
  }
 },
 "nbformat": 4,
 "nbformat_minor": 5
}
