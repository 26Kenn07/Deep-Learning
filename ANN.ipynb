{
 "cells": [
  {
   "cell_type": "code",
   "execution_count": 1,
   "id": "d0027fa0",
   "metadata": {},
   "outputs": [
    {
     "name": "stdout",
     "output_type": "stream",
     "text": [
      "2.13.0\n"
     ]
    }
   ],
   "source": [
    "import tensorflow as tf\n",
    "print(tf.__version__)"
   ]
  },
  {
   "cell_type": "code",
   "execution_count": 2,
   "id": "e3165271",
   "metadata": {},
   "outputs": [],
   "source": [
    "import numpy as np\n",
    "import matplotlib.pyplot as plt\n",
    "import pandas as pd"
   ]
  },
  {
   "cell_type": "code",
   "execution_count": 3,
   "id": "149c18cc",
   "metadata": {},
   "outputs": [],
   "source": [
    "df = pd.read_csv('/Users/kirtan/Downloads/Churn_Modelling/Churn_Modelling.csv')"
   ]
  },
  {
   "cell_type": "code",
   "execution_count": 4,
   "id": "157daf77",
   "metadata": {},
   "outputs": [
    {
     "data": {
      "text/html": [
       "<div>\n",
       "<style scoped>\n",
       "    .dataframe tbody tr th:only-of-type {\n",
       "        vertical-align: middle;\n",
       "    }\n",
       "\n",
       "    .dataframe tbody tr th {\n",
       "        vertical-align: top;\n",
       "    }\n",
       "\n",
       "    .dataframe thead th {\n",
       "        text-align: right;\n",
       "    }\n",
       "</style>\n",
       "<table border=\"1\" class=\"dataframe\">\n",
       "  <thead>\n",
       "    <tr style=\"text-align: right;\">\n",
       "      <th></th>\n",
       "      <th>RowNumber</th>\n",
       "      <th>CustomerId</th>\n",
       "      <th>Surname</th>\n",
       "      <th>CreditScore</th>\n",
       "      <th>Geography</th>\n",
       "      <th>Gender</th>\n",
       "      <th>Age</th>\n",
       "      <th>Tenure</th>\n",
       "      <th>Balance</th>\n",
       "      <th>NumOfProducts</th>\n",
       "      <th>HasCrCard</th>\n",
       "      <th>IsActiveMember</th>\n",
       "      <th>EstimatedSalary</th>\n",
       "      <th>Exited</th>\n",
       "    </tr>\n",
       "  </thead>\n",
       "  <tbody>\n",
       "    <tr>\n",
       "      <th>0</th>\n",
       "      <td>1</td>\n",
       "      <td>15634602</td>\n",
       "      <td>Hargrave</td>\n",
       "      <td>619</td>\n",
       "      <td>France</td>\n",
       "      <td>Female</td>\n",
       "      <td>42</td>\n",
       "      <td>2</td>\n",
       "      <td>0.00</td>\n",
       "      <td>1</td>\n",
       "      <td>1</td>\n",
       "      <td>1</td>\n",
       "      <td>101348.88</td>\n",
       "      <td>1</td>\n",
       "    </tr>\n",
       "    <tr>\n",
       "      <th>1</th>\n",
       "      <td>2</td>\n",
       "      <td>15647311</td>\n",
       "      <td>Hill</td>\n",
       "      <td>608</td>\n",
       "      <td>Spain</td>\n",
       "      <td>Female</td>\n",
       "      <td>41</td>\n",
       "      <td>1</td>\n",
       "      <td>83807.86</td>\n",
       "      <td>1</td>\n",
       "      <td>0</td>\n",
       "      <td>1</td>\n",
       "      <td>112542.58</td>\n",
       "      <td>0</td>\n",
       "    </tr>\n",
       "    <tr>\n",
       "      <th>2</th>\n",
       "      <td>3</td>\n",
       "      <td>15619304</td>\n",
       "      <td>Onio</td>\n",
       "      <td>502</td>\n",
       "      <td>France</td>\n",
       "      <td>Female</td>\n",
       "      <td>42</td>\n",
       "      <td>8</td>\n",
       "      <td>159660.80</td>\n",
       "      <td>3</td>\n",
       "      <td>1</td>\n",
       "      <td>0</td>\n",
       "      <td>113931.57</td>\n",
       "      <td>1</td>\n",
       "    </tr>\n",
       "    <tr>\n",
       "      <th>3</th>\n",
       "      <td>4</td>\n",
       "      <td>15701354</td>\n",
       "      <td>Boni</td>\n",
       "      <td>699</td>\n",
       "      <td>France</td>\n",
       "      <td>Female</td>\n",
       "      <td>39</td>\n",
       "      <td>1</td>\n",
       "      <td>0.00</td>\n",
       "      <td>2</td>\n",
       "      <td>0</td>\n",
       "      <td>0</td>\n",
       "      <td>93826.63</td>\n",
       "      <td>0</td>\n",
       "    </tr>\n",
       "    <tr>\n",
       "      <th>4</th>\n",
       "      <td>5</td>\n",
       "      <td>15737888</td>\n",
       "      <td>Mitchell</td>\n",
       "      <td>850</td>\n",
       "      <td>Spain</td>\n",
       "      <td>Female</td>\n",
       "      <td>43</td>\n",
       "      <td>2</td>\n",
       "      <td>125510.82</td>\n",
       "      <td>1</td>\n",
       "      <td>1</td>\n",
       "      <td>1</td>\n",
       "      <td>79084.10</td>\n",
       "      <td>0</td>\n",
       "    </tr>\n",
       "  </tbody>\n",
       "</table>\n",
       "</div>"
      ],
      "text/plain": [
       "   RowNumber  CustomerId   Surname  CreditScore Geography  Gender  Age  \\\n",
       "0          1    15634602  Hargrave          619    France  Female   42   \n",
       "1          2    15647311      Hill          608     Spain  Female   41   \n",
       "2          3    15619304      Onio          502    France  Female   42   \n",
       "3          4    15701354      Boni          699    France  Female   39   \n",
       "4          5    15737888  Mitchell          850     Spain  Female   43   \n",
       "\n",
       "   Tenure    Balance  NumOfProducts  HasCrCard  IsActiveMember  \\\n",
       "0       2       0.00              1          1               1   \n",
       "1       1   83807.86              1          0               1   \n",
       "2       8  159660.80              3          1               0   \n",
       "3       1       0.00              2          0               0   \n",
       "4       2  125510.82              1          1               1   \n",
       "\n",
       "   EstimatedSalary  Exited  \n",
       "0        101348.88       1  \n",
       "1        112542.58       0  \n",
       "2        113931.57       1  \n",
       "3         93826.63       0  \n",
       "4         79084.10       0  "
      ]
     },
     "execution_count": 4,
     "metadata": {},
     "output_type": "execute_result"
    }
   ],
   "source": [
    "df.head()"
   ]
  },
  {
   "cell_type": "markdown",
   "id": "5464d261",
   "metadata": {},
   "source": [
    "# Train & Test Split"
   ]
  },
  {
   "cell_type": "code",
   "execution_count": 5,
   "id": "49ebdce7",
   "metadata": {},
   "outputs": [],
   "source": [
    "from sklearn.model_selection import train_test_split"
   ]
  },
  {
   "cell_type": "code",
   "execution_count": 6,
   "id": "06ae2fca",
   "metadata": {},
   "outputs": [
    {
     "data": {
      "text/html": [
       "<div>\n",
       "<style scoped>\n",
       "    .dataframe tbody tr th:only-of-type {\n",
       "        vertical-align: middle;\n",
       "    }\n",
       "\n",
       "    .dataframe tbody tr th {\n",
       "        vertical-align: top;\n",
       "    }\n",
       "\n",
       "    .dataframe thead th {\n",
       "        text-align: right;\n",
       "    }\n",
       "</style>\n",
       "<table border=\"1\" class=\"dataframe\">\n",
       "  <thead>\n",
       "    <tr style=\"text-align: right;\">\n",
       "      <th></th>\n",
       "      <th>CreditScore</th>\n",
       "      <th>Geography</th>\n",
       "      <th>Gender</th>\n",
       "      <th>Age</th>\n",
       "      <th>Tenure</th>\n",
       "      <th>Balance</th>\n",
       "      <th>NumOfProducts</th>\n",
       "      <th>HasCrCard</th>\n",
       "      <th>IsActiveMember</th>\n",
       "      <th>EstimatedSalary</th>\n",
       "    </tr>\n",
       "  </thead>\n",
       "  <tbody>\n",
       "    <tr>\n",
       "      <th>0</th>\n",
       "      <td>619</td>\n",
       "      <td>France</td>\n",
       "      <td>Female</td>\n",
       "      <td>42</td>\n",
       "      <td>2</td>\n",
       "      <td>0.00</td>\n",
       "      <td>1</td>\n",
       "      <td>1</td>\n",
       "      <td>1</td>\n",
       "      <td>101348.88</td>\n",
       "    </tr>\n",
       "    <tr>\n",
       "      <th>1</th>\n",
       "      <td>608</td>\n",
       "      <td>Spain</td>\n",
       "      <td>Female</td>\n",
       "      <td>41</td>\n",
       "      <td>1</td>\n",
       "      <td>83807.86</td>\n",
       "      <td>1</td>\n",
       "      <td>0</td>\n",
       "      <td>1</td>\n",
       "      <td>112542.58</td>\n",
       "    </tr>\n",
       "    <tr>\n",
       "      <th>2</th>\n",
       "      <td>502</td>\n",
       "      <td>France</td>\n",
       "      <td>Female</td>\n",
       "      <td>42</td>\n",
       "      <td>8</td>\n",
       "      <td>159660.80</td>\n",
       "      <td>3</td>\n",
       "      <td>1</td>\n",
       "      <td>0</td>\n",
       "      <td>113931.57</td>\n",
       "    </tr>\n",
       "    <tr>\n",
       "      <th>3</th>\n",
       "      <td>699</td>\n",
       "      <td>France</td>\n",
       "      <td>Female</td>\n",
       "      <td>39</td>\n",
       "      <td>1</td>\n",
       "      <td>0.00</td>\n",
       "      <td>2</td>\n",
       "      <td>0</td>\n",
       "      <td>0</td>\n",
       "      <td>93826.63</td>\n",
       "    </tr>\n",
       "    <tr>\n",
       "      <th>4</th>\n",
       "      <td>850</td>\n",
       "      <td>Spain</td>\n",
       "      <td>Female</td>\n",
       "      <td>43</td>\n",
       "      <td>2</td>\n",
       "      <td>125510.82</td>\n",
       "      <td>1</td>\n",
       "      <td>1</td>\n",
       "      <td>1</td>\n",
       "      <td>79084.10</td>\n",
       "    </tr>\n",
       "    <tr>\n",
       "      <th>...</th>\n",
       "      <td>...</td>\n",
       "      <td>...</td>\n",
       "      <td>...</td>\n",
       "      <td>...</td>\n",
       "      <td>...</td>\n",
       "      <td>...</td>\n",
       "      <td>...</td>\n",
       "      <td>...</td>\n",
       "      <td>...</td>\n",
       "      <td>...</td>\n",
       "    </tr>\n",
       "    <tr>\n",
       "      <th>9995</th>\n",
       "      <td>771</td>\n",
       "      <td>France</td>\n",
       "      <td>Male</td>\n",
       "      <td>39</td>\n",
       "      <td>5</td>\n",
       "      <td>0.00</td>\n",
       "      <td>2</td>\n",
       "      <td>1</td>\n",
       "      <td>0</td>\n",
       "      <td>96270.64</td>\n",
       "    </tr>\n",
       "    <tr>\n",
       "      <th>9996</th>\n",
       "      <td>516</td>\n",
       "      <td>France</td>\n",
       "      <td>Male</td>\n",
       "      <td>35</td>\n",
       "      <td>10</td>\n",
       "      <td>57369.61</td>\n",
       "      <td>1</td>\n",
       "      <td>1</td>\n",
       "      <td>1</td>\n",
       "      <td>101699.77</td>\n",
       "    </tr>\n",
       "    <tr>\n",
       "      <th>9997</th>\n",
       "      <td>709</td>\n",
       "      <td>France</td>\n",
       "      <td>Female</td>\n",
       "      <td>36</td>\n",
       "      <td>7</td>\n",
       "      <td>0.00</td>\n",
       "      <td>1</td>\n",
       "      <td>0</td>\n",
       "      <td>1</td>\n",
       "      <td>42085.58</td>\n",
       "    </tr>\n",
       "    <tr>\n",
       "      <th>9998</th>\n",
       "      <td>772</td>\n",
       "      <td>Germany</td>\n",
       "      <td>Male</td>\n",
       "      <td>42</td>\n",
       "      <td>3</td>\n",
       "      <td>75075.31</td>\n",
       "      <td>2</td>\n",
       "      <td>1</td>\n",
       "      <td>0</td>\n",
       "      <td>92888.52</td>\n",
       "    </tr>\n",
       "    <tr>\n",
       "      <th>9999</th>\n",
       "      <td>792</td>\n",
       "      <td>France</td>\n",
       "      <td>Female</td>\n",
       "      <td>28</td>\n",
       "      <td>4</td>\n",
       "      <td>130142.79</td>\n",
       "      <td>1</td>\n",
       "      <td>1</td>\n",
       "      <td>0</td>\n",
       "      <td>38190.78</td>\n",
       "    </tr>\n",
       "  </tbody>\n",
       "</table>\n",
       "<p>10000 rows × 10 columns</p>\n",
       "</div>"
      ],
      "text/plain": [
       "      CreditScore Geography  Gender  Age  Tenure    Balance  NumOfProducts  \\\n",
       "0             619    France  Female   42       2       0.00              1   \n",
       "1             608     Spain  Female   41       1   83807.86              1   \n",
       "2             502    France  Female   42       8  159660.80              3   \n",
       "3             699    France  Female   39       1       0.00              2   \n",
       "4             850     Spain  Female   43       2  125510.82              1   \n",
       "...           ...       ...     ...  ...     ...        ...            ...   \n",
       "9995          771    France    Male   39       5       0.00              2   \n",
       "9996          516    France    Male   35      10   57369.61              1   \n",
       "9997          709    France  Female   36       7       0.00              1   \n",
       "9998          772   Germany    Male   42       3   75075.31              2   \n",
       "9999          792    France  Female   28       4  130142.79              1   \n",
       "\n",
       "      HasCrCard  IsActiveMember  EstimatedSalary  \n",
       "0             1               1        101348.88  \n",
       "1             0               1        112542.58  \n",
       "2             1               0        113931.57  \n",
       "3             0               0         93826.63  \n",
       "4             1               1         79084.10  \n",
       "...         ...             ...              ...  \n",
       "9995          1               0         96270.64  \n",
       "9996          1               1        101699.77  \n",
       "9997          0               1         42085.58  \n",
       "9998          1               0         92888.52  \n",
       "9999          1               0         38190.78  \n",
       "\n",
       "[10000 rows x 10 columns]"
      ]
     },
     "execution_count": 6,
     "metadata": {},
     "output_type": "execute_result"
    }
   ],
   "source": [
    "X = df.iloc[:,3:13]\n",
    "X"
   ]
  },
  {
   "cell_type": "code",
   "execution_count": 7,
   "id": "38c6981d",
   "metadata": {},
   "outputs": [
    {
     "data": {
      "text/plain": [
       "0       1\n",
       "1       0\n",
       "2       1\n",
       "3       0\n",
       "4       0\n",
       "       ..\n",
       "9995    0\n",
       "9996    0\n",
       "9997    1\n",
       "9998    1\n",
       "9999    0\n",
       "Name: Exited, Length: 10000, dtype: int64"
      ]
     },
     "execution_count": 7,
     "metadata": {},
     "output_type": "execute_result"
    }
   ],
   "source": [
    "y = df.iloc[:,13]\n",
    "y"
   ]
  },
  {
   "cell_type": "markdown",
   "id": "2edd1d8a",
   "metadata": {},
   "source": [
    "# Feature Engineering"
   ]
  },
  {
   "cell_type": "code",
   "execution_count": 8,
   "id": "efad90cb",
   "metadata": {},
   "outputs": [
    {
     "data": {
      "text/html": [
       "<div>\n",
       "<style scoped>\n",
       "    .dataframe tbody tr th:only-of-type {\n",
       "        vertical-align: middle;\n",
       "    }\n",
       "\n",
       "    .dataframe tbody tr th {\n",
       "        vertical-align: top;\n",
       "    }\n",
       "\n",
       "    .dataframe thead th {\n",
       "        text-align: right;\n",
       "    }\n",
       "</style>\n",
       "<table border=\"1\" class=\"dataframe\">\n",
       "  <thead>\n",
       "    <tr style=\"text-align: right;\">\n",
       "      <th></th>\n",
       "      <th>Germany</th>\n",
       "      <th>Spain</th>\n",
       "    </tr>\n",
       "  </thead>\n",
       "  <tbody>\n",
       "    <tr>\n",
       "      <th>0</th>\n",
       "      <td>0</td>\n",
       "      <td>0</td>\n",
       "    </tr>\n",
       "    <tr>\n",
       "      <th>1</th>\n",
       "      <td>0</td>\n",
       "      <td>1</td>\n",
       "    </tr>\n",
       "    <tr>\n",
       "      <th>2</th>\n",
       "      <td>0</td>\n",
       "      <td>0</td>\n",
       "    </tr>\n",
       "    <tr>\n",
       "      <th>3</th>\n",
       "      <td>0</td>\n",
       "      <td>0</td>\n",
       "    </tr>\n",
       "    <tr>\n",
       "      <th>4</th>\n",
       "      <td>0</td>\n",
       "      <td>1</td>\n",
       "    </tr>\n",
       "    <tr>\n",
       "      <th>...</th>\n",
       "      <td>...</td>\n",
       "      <td>...</td>\n",
       "    </tr>\n",
       "    <tr>\n",
       "      <th>9995</th>\n",
       "      <td>0</td>\n",
       "      <td>0</td>\n",
       "    </tr>\n",
       "    <tr>\n",
       "      <th>9996</th>\n",
       "      <td>0</td>\n",
       "      <td>0</td>\n",
       "    </tr>\n",
       "    <tr>\n",
       "      <th>9997</th>\n",
       "      <td>0</td>\n",
       "      <td>0</td>\n",
       "    </tr>\n",
       "    <tr>\n",
       "      <th>9998</th>\n",
       "      <td>1</td>\n",
       "      <td>0</td>\n",
       "    </tr>\n",
       "    <tr>\n",
       "      <th>9999</th>\n",
       "      <td>0</td>\n",
       "      <td>0</td>\n",
       "    </tr>\n",
       "  </tbody>\n",
       "</table>\n",
       "<p>10000 rows × 2 columns</p>\n",
       "</div>"
      ],
      "text/plain": [
       "      Germany  Spain\n",
       "0           0      0\n",
       "1           0      1\n",
       "2           0      0\n",
       "3           0      0\n",
       "4           0      1\n",
       "...       ...    ...\n",
       "9995        0      0\n",
       "9996        0      0\n",
       "9997        0      0\n",
       "9998        1      0\n",
       "9999        0      0\n",
       "\n",
       "[10000 rows x 2 columns]"
      ]
     },
     "execution_count": 8,
     "metadata": {},
     "output_type": "execute_result"
    }
   ],
   "source": [
    "Geography = pd.get_dummies(X['Geography'],drop_first=True)\n",
    "Geography"
   ]
  },
  {
   "cell_type": "code",
   "execution_count": 9,
   "id": "6a0fbb50",
   "metadata": {},
   "outputs": [
    {
     "data": {
      "text/html": [
       "<div>\n",
       "<style scoped>\n",
       "    .dataframe tbody tr th:only-of-type {\n",
       "        vertical-align: middle;\n",
       "    }\n",
       "\n",
       "    .dataframe tbody tr th {\n",
       "        vertical-align: top;\n",
       "    }\n",
       "\n",
       "    .dataframe thead th {\n",
       "        text-align: right;\n",
       "    }\n",
       "</style>\n",
       "<table border=\"1\" class=\"dataframe\">\n",
       "  <thead>\n",
       "    <tr style=\"text-align: right;\">\n",
       "      <th></th>\n",
       "      <th>Male</th>\n",
       "    </tr>\n",
       "  </thead>\n",
       "  <tbody>\n",
       "    <tr>\n",
       "      <th>0</th>\n",
       "      <td>0</td>\n",
       "    </tr>\n",
       "    <tr>\n",
       "      <th>1</th>\n",
       "      <td>0</td>\n",
       "    </tr>\n",
       "    <tr>\n",
       "      <th>2</th>\n",
       "      <td>0</td>\n",
       "    </tr>\n",
       "    <tr>\n",
       "      <th>3</th>\n",
       "      <td>0</td>\n",
       "    </tr>\n",
       "    <tr>\n",
       "      <th>4</th>\n",
       "      <td>0</td>\n",
       "    </tr>\n",
       "    <tr>\n",
       "      <th>...</th>\n",
       "      <td>...</td>\n",
       "    </tr>\n",
       "    <tr>\n",
       "      <th>9995</th>\n",
       "      <td>1</td>\n",
       "    </tr>\n",
       "    <tr>\n",
       "      <th>9996</th>\n",
       "      <td>1</td>\n",
       "    </tr>\n",
       "    <tr>\n",
       "      <th>9997</th>\n",
       "      <td>0</td>\n",
       "    </tr>\n",
       "    <tr>\n",
       "      <th>9998</th>\n",
       "      <td>1</td>\n",
       "    </tr>\n",
       "    <tr>\n",
       "      <th>9999</th>\n",
       "      <td>0</td>\n",
       "    </tr>\n",
       "  </tbody>\n",
       "</table>\n",
       "<p>10000 rows × 1 columns</p>\n",
       "</div>"
      ],
      "text/plain": [
       "      Male\n",
       "0        0\n",
       "1        0\n",
       "2        0\n",
       "3        0\n",
       "4        0\n",
       "...    ...\n",
       "9995     1\n",
       "9996     1\n",
       "9997     0\n",
       "9998     1\n",
       "9999     0\n",
       "\n",
       "[10000 rows x 1 columns]"
      ]
     },
     "execution_count": 9,
     "metadata": {},
     "output_type": "execute_result"
    }
   ],
   "source": [
    "Gender = pd.get_dummies(X['Gender'],drop_first=True)\n",
    "Gender"
   ]
  },
  {
   "cell_type": "code",
   "execution_count": 10,
   "id": "28545c62",
   "metadata": {},
   "outputs": [],
   "source": [
    "X = X.drop(['Gender','Geography'], axis=1)"
   ]
  },
  {
   "cell_type": "code",
   "execution_count": 11,
   "id": "0ee0756a",
   "metadata": {},
   "outputs": [
    {
     "data": {
      "text/html": [
       "<div>\n",
       "<style scoped>\n",
       "    .dataframe tbody tr th:only-of-type {\n",
       "        vertical-align: middle;\n",
       "    }\n",
       "\n",
       "    .dataframe tbody tr th {\n",
       "        vertical-align: top;\n",
       "    }\n",
       "\n",
       "    .dataframe thead th {\n",
       "        text-align: right;\n",
       "    }\n",
       "</style>\n",
       "<table border=\"1\" class=\"dataframe\">\n",
       "  <thead>\n",
       "    <tr style=\"text-align: right;\">\n",
       "      <th></th>\n",
       "      <th>CreditScore</th>\n",
       "      <th>Age</th>\n",
       "      <th>Tenure</th>\n",
       "      <th>Balance</th>\n",
       "      <th>NumOfProducts</th>\n",
       "      <th>HasCrCard</th>\n",
       "      <th>IsActiveMember</th>\n",
       "      <th>EstimatedSalary</th>\n",
       "      <th>Germany</th>\n",
       "      <th>Spain</th>\n",
       "      <th>Male</th>\n",
       "    </tr>\n",
       "  </thead>\n",
       "  <tbody>\n",
       "    <tr>\n",
       "      <th>0</th>\n",
       "      <td>619</td>\n",
       "      <td>42</td>\n",
       "      <td>2</td>\n",
       "      <td>0.00</td>\n",
       "      <td>1</td>\n",
       "      <td>1</td>\n",
       "      <td>1</td>\n",
       "      <td>101348.88</td>\n",
       "      <td>0</td>\n",
       "      <td>0</td>\n",
       "      <td>0</td>\n",
       "    </tr>\n",
       "    <tr>\n",
       "      <th>1</th>\n",
       "      <td>608</td>\n",
       "      <td>41</td>\n",
       "      <td>1</td>\n",
       "      <td>83807.86</td>\n",
       "      <td>1</td>\n",
       "      <td>0</td>\n",
       "      <td>1</td>\n",
       "      <td>112542.58</td>\n",
       "      <td>0</td>\n",
       "      <td>1</td>\n",
       "      <td>0</td>\n",
       "    </tr>\n",
       "    <tr>\n",
       "      <th>2</th>\n",
       "      <td>502</td>\n",
       "      <td>42</td>\n",
       "      <td>8</td>\n",
       "      <td>159660.80</td>\n",
       "      <td>3</td>\n",
       "      <td>1</td>\n",
       "      <td>0</td>\n",
       "      <td>113931.57</td>\n",
       "      <td>0</td>\n",
       "      <td>0</td>\n",
       "      <td>0</td>\n",
       "    </tr>\n",
       "    <tr>\n",
       "      <th>3</th>\n",
       "      <td>699</td>\n",
       "      <td>39</td>\n",
       "      <td>1</td>\n",
       "      <td>0.00</td>\n",
       "      <td>2</td>\n",
       "      <td>0</td>\n",
       "      <td>0</td>\n",
       "      <td>93826.63</td>\n",
       "      <td>0</td>\n",
       "      <td>0</td>\n",
       "      <td>0</td>\n",
       "    </tr>\n",
       "    <tr>\n",
       "      <th>4</th>\n",
       "      <td>850</td>\n",
       "      <td>43</td>\n",
       "      <td>2</td>\n",
       "      <td>125510.82</td>\n",
       "      <td>1</td>\n",
       "      <td>1</td>\n",
       "      <td>1</td>\n",
       "      <td>79084.10</td>\n",
       "      <td>0</td>\n",
       "      <td>1</td>\n",
       "      <td>0</td>\n",
       "    </tr>\n",
       "    <tr>\n",
       "      <th>...</th>\n",
       "      <td>...</td>\n",
       "      <td>...</td>\n",
       "      <td>...</td>\n",
       "      <td>...</td>\n",
       "      <td>...</td>\n",
       "      <td>...</td>\n",
       "      <td>...</td>\n",
       "      <td>...</td>\n",
       "      <td>...</td>\n",
       "      <td>...</td>\n",
       "      <td>...</td>\n",
       "    </tr>\n",
       "    <tr>\n",
       "      <th>9995</th>\n",
       "      <td>771</td>\n",
       "      <td>39</td>\n",
       "      <td>5</td>\n",
       "      <td>0.00</td>\n",
       "      <td>2</td>\n",
       "      <td>1</td>\n",
       "      <td>0</td>\n",
       "      <td>96270.64</td>\n",
       "      <td>0</td>\n",
       "      <td>0</td>\n",
       "      <td>1</td>\n",
       "    </tr>\n",
       "    <tr>\n",
       "      <th>9996</th>\n",
       "      <td>516</td>\n",
       "      <td>35</td>\n",
       "      <td>10</td>\n",
       "      <td>57369.61</td>\n",
       "      <td>1</td>\n",
       "      <td>1</td>\n",
       "      <td>1</td>\n",
       "      <td>101699.77</td>\n",
       "      <td>0</td>\n",
       "      <td>0</td>\n",
       "      <td>1</td>\n",
       "    </tr>\n",
       "    <tr>\n",
       "      <th>9997</th>\n",
       "      <td>709</td>\n",
       "      <td>36</td>\n",
       "      <td>7</td>\n",
       "      <td>0.00</td>\n",
       "      <td>1</td>\n",
       "      <td>0</td>\n",
       "      <td>1</td>\n",
       "      <td>42085.58</td>\n",
       "      <td>0</td>\n",
       "      <td>0</td>\n",
       "      <td>0</td>\n",
       "    </tr>\n",
       "    <tr>\n",
       "      <th>9998</th>\n",
       "      <td>772</td>\n",
       "      <td>42</td>\n",
       "      <td>3</td>\n",
       "      <td>75075.31</td>\n",
       "      <td>2</td>\n",
       "      <td>1</td>\n",
       "      <td>0</td>\n",
       "      <td>92888.52</td>\n",
       "      <td>1</td>\n",
       "      <td>0</td>\n",
       "      <td>1</td>\n",
       "    </tr>\n",
       "    <tr>\n",
       "      <th>9999</th>\n",
       "      <td>792</td>\n",
       "      <td>28</td>\n",
       "      <td>4</td>\n",
       "      <td>130142.79</td>\n",
       "      <td>1</td>\n",
       "      <td>1</td>\n",
       "      <td>0</td>\n",
       "      <td>38190.78</td>\n",
       "      <td>0</td>\n",
       "      <td>0</td>\n",
       "      <td>0</td>\n",
       "    </tr>\n",
       "  </tbody>\n",
       "</table>\n",
       "<p>10000 rows × 11 columns</p>\n",
       "</div>"
      ],
      "text/plain": [
       "      CreditScore  Age  Tenure    Balance  NumOfProducts  HasCrCard  \\\n",
       "0             619   42       2       0.00              1          1   \n",
       "1             608   41       1   83807.86              1          0   \n",
       "2             502   42       8  159660.80              3          1   \n",
       "3             699   39       1       0.00              2          0   \n",
       "4             850   43       2  125510.82              1          1   \n",
       "...           ...  ...     ...        ...            ...        ...   \n",
       "9995          771   39       5       0.00              2          1   \n",
       "9996          516   35      10   57369.61              1          1   \n",
       "9997          709   36       7       0.00              1          0   \n",
       "9998          772   42       3   75075.31              2          1   \n",
       "9999          792   28       4  130142.79              1          1   \n",
       "\n",
       "      IsActiveMember  EstimatedSalary  Germany  Spain  Male  \n",
       "0                  1        101348.88        0      0     0  \n",
       "1                  1        112542.58        0      1     0  \n",
       "2                  0        113931.57        0      0     0  \n",
       "3                  0         93826.63        0      0     0  \n",
       "4                  1         79084.10        0      1     0  \n",
       "...              ...              ...      ...    ...   ...  \n",
       "9995               0         96270.64        0      0     1  \n",
       "9996               1        101699.77        0      0     1  \n",
       "9997               1         42085.58        0      0     0  \n",
       "9998               0         92888.52        1      0     1  \n",
       "9999               0         38190.78        0      0     0  \n",
       "\n",
       "[10000 rows x 11 columns]"
      ]
     },
     "execution_count": 11,
     "metadata": {},
     "output_type": "execute_result"
    }
   ],
   "source": [
    "#Concate these 2 with X\n",
    "X = pd.concat([X,Geography,Gender],axis=1)\n",
    "X"
   ]
  },
  {
   "cell_type": "code",
   "execution_count": 12,
   "id": "b863a564",
   "metadata": {},
   "outputs": [],
   "source": [
    "X_train, X_test, y_train, y_test = train_test_split(X, y, test_size=0.2, random_state=0)"
   ]
  },
  {
   "cell_type": "markdown",
   "id": "4f3c4d53",
   "metadata": {},
   "source": [
    "# Feature Scaling"
   ]
  },
  {
   "cell_type": "code",
   "execution_count": 13,
   "id": "2bb8601a",
   "metadata": {},
   "outputs": [],
   "source": [
    "from sklearn.preprocessing import StandardScaler"
   ]
  },
  {
   "cell_type": "code",
   "execution_count": 14,
   "id": "9e36b625",
   "metadata": {},
   "outputs": [],
   "source": [
    "Sd = StandardScaler()"
   ]
  },
  {
   "cell_type": "code",
   "execution_count": 15,
   "id": "30155cb9",
   "metadata": {},
   "outputs": [],
   "source": [
    "#TO AVOID DATA LEAK \n",
    "X_train_SD = Sd.fit_transform(X_train)\n",
    "X_test_SD = Sd.transform(X_test)"
   ]
  },
  {
   "cell_type": "markdown",
   "id": "f06160c0",
   "metadata": {},
   "source": [
    "# ANN"
   ]
  },
  {
   "cell_type": "code",
   "execution_count": 16,
   "id": "0a390ca5",
   "metadata": {},
   "outputs": [],
   "source": [
    "from tensorflow.keras.models import Sequential\n",
    "from tensorflow.keras.layers import Dense\n",
    "from tensorflow.keras.layers import LeakyReLU, PReLU, ELU, ReLU\n",
    "from tensorflow.keras.layers import Dropout"
   ]
  },
  {
   "cell_type": "code",
   "execution_count": 17,
   "id": "8eebd757",
   "metadata": {},
   "outputs": [
    {
     "name": "stderr",
     "output_type": "stream",
     "text": [
      "2023-07-12 23:07:51.117870: I metal_plugin/src/device/metal_device.cc:1154] Metal device set to: Apple M1\n",
      "2023-07-12 23:07:51.117893: I metal_plugin/src/device/metal_device.cc:296] systemMemory: 8.00 GB\n",
      "2023-07-12 23:07:51.117899: I metal_plugin/src/device/metal_device.cc:313] maxCacheSize: 2.67 GB\n",
      "2023-07-12 23:07:51.117940: I tensorflow/core/common_runtime/pluggable_device/pluggable_device_factory.cc:303] Could not identify NUMA node of platform GPU ID 0, defaulting to 0. Your kernel may not have been built with NUMA support.\n",
      "2023-07-12 23:07:51.117957: I tensorflow/core/common_runtime/pluggable_device/pluggable_device_factory.cc:269] Created TensorFlow device (/job:localhost/replica:0/task:0/device:GPU:0 with 0 MB memory) -> physical PluggableDevice (device: 0, name: METAL, pci bus id: <undefined>)\n"
     ]
    }
   ],
   "source": [
    "#Initialize the ANN\n",
    "classifier = Sequential()"
   ]
  },
  {
   "cell_type": "code",
   "execution_count": 18,
   "id": "df22f75b",
   "metadata": {},
   "outputs": [],
   "source": [
    "#Input layer\n",
    "classifier.add(Dense(units=11,activation='relu'))\n",
    "classifier.add(Dropout(0.3))"
   ]
  },
  {
   "cell_type": "code",
   "execution_count": 19,
   "id": "3b7958d3",
   "metadata": {},
   "outputs": [],
   "source": [
    "#Hidden Layer 1\n",
    "classifier.add(Dense(units=7,activation='relu'))\n",
    "classifier.add(Dropout(0.2))"
   ]
  },
  {
   "cell_type": "code",
   "execution_count": 20,
   "id": "a207b21e",
   "metadata": {},
   "outputs": [],
   "source": [
    "#Hidden Layer 2\n",
    "classifier.add(Dense(units=6, activation='relu'))\n",
    "classifier.add(Dropout(0.2))\n",
    "#Here Units represent the number of neurons"
   ]
  },
  {
   "cell_type": "code",
   "execution_count": 21,
   "id": "419a7688",
   "metadata": {},
   "outputs": [],
   "source": [
    "#Output Layer\n",
    "classifier.add(Dense(1,activation='sigmoid'))"
   ]
  },
  {
   "cell_type": "code",
   "execution_count": 22,
   "id": "ac5172d0",
   "metadata": {},
   "outputs": [
    {
     "name": "stderr",
     "output_type": "stream",
     "text": [
      "WARNING:absl:At this time, the v2.11+ optimizer `tf.keras.optimizers.Adam` runs slowly on M1/M2 Macs, please use the legacy Keras optimizer instead, located at `tf.keras.optimizers.legacy.Adam`.\n",
      "WARNING:absl:There is a known slowdown when using v2.11+ Keras optimizers on M1/M2 Macs. Falling back to the legacy Keras optimizer, i.e., `tf.keras.optimizers.legacy.Adam`.\n"
     ]
    }
   ],
   "source": [
    "#Adam uses learning rate as 0.01 by default\n",
    "#To chamge it\n",
    "import tensorflow as tf\n",
    "from tensorflow.keras.optimizers import Adam\n",
    "\n",
    "# Define the optimizer\n",
    "optm = Adam(learning_rate=0.001)\n",
    "\n",
    "# Compile the model with the optimizer\n",
    "classifier.compile(optimizer=optm, loss='binary_crossentropy', metrics=['accuracy'])"
   ]
  },
  {
   "cell_type": "code",
   "execution_count": 23,
   "id": "968db453",
   "metadata": {},
   "outputs": [],
   "source": [
    "#Early Stopping\n",
    "import tensorflow as tf\n",
    "early_stopping = tf.keras.callbacks.EarlyStopping(\n",
    "    monitor=\"val_loss\",\n",
    "    min_delta=0.0001, \n",
    "    patience=20, \n",
    "    verbose=1, \n",
    "    mode= 'auto',\n",
    "    baseline=None, \n",
    "    restore_best_weights=False,\n",
    ")"
   ]
  },
  {
   "cell_type": "code",
   "execution_count": 24,
   "id": "4c542e15",
   "metadata": {},
   "outputs": [
    {
     "name": "stdout",
     "output_type": "stream",
     "text": [
      "Epoch 1/1000\n"
     ]
    },
    {
     "name": "stderr",
     "output_type": "stream",
     "text": [
      "2023-07-12 23:07:51.599801: I tensorflow/core/grappler/optimizers/custom_graph_optimizer_registry.cc:114] Plugin optimizer for device_type GPU is enabled.\n"
     ]
    },
    {
     "name": "stdout",
     "output_type": "stream",
     "text": [
      "798/800 [============================>.] - ETA: 0s - loss: 0.5538 - accuracy: 0.7323"
     ]
    },
    {
     "name": "stderr",
     "output_type": "stream",
     "text": [
      "2023-07-12 23:07:58.113517: I tensorflow/core/grappler/optimizers/custom_graph_optimizer_registry.cc:114] Plugin optimizer for device_type GPU is enabled.\n"
     ]
    },
    {
     "name": "stdout",
     "output_type": "stream",
     "text": [
      "800/800 [==============================] - 7s 8ms/step - loss: 0.5533 - accuracy: 0.7326 - val_loss: 0.4602 - val_accuracy: 0.8000\n",
      "Epoch 2/1000\n",
      "800/800 [==============================] - 7s 8ms/step - loss: 0.4623 - accuracy: 0.7954 - val_loss: 0.4474 - val_accuracy: 0.8040\n",
      "Epoch 3/1000\n",
      "800/800 [==============================] - 6s 8ms/step - loss: 0.4499 - accuracy: 0.7983 - val_loss: 0.4682 - val_accuracy: 0.7975\n",
      "Epoch 4/1000\n",
      "800/800 [==============================] - 6s 8ms/step - loss: 0.4514 - accuracy: 0.8027 - val_loss: 0.4442 - val_accuracy: 0.8015\n",
      "Epoch 5/1000\n",
      "800/800 [==============================] - 6s 8ms/step - loss: 0.4579 - accuracy: 0.8006 - val_loss: 0.4645 - val_accuracy: 0.7995\n",
      "Epoch 6/1000\n",
      "800/800 [==============================] - 6s 8ms/step - loss: 0.4769 - accuracy: 0.7936 - val_loss: 0.4623 - val_accuracy: 0.7990\n",
      "Epoch 7/1000\n",
      "800/800 [==============================] - 6s 8ms/step - loss: 0.5086 - accuracy: 0.7870 - val_loss: 0.4650 - val_accuracy: 0.8045\n",
      "Epoch 8/1000\n",
      "800/800 [==============================] - 6s 8ms/step - loss: 0.5281 - accuracy: 0.7799 - val_loss: 0.4479 - val_accuracy: 0.7990\n",
      "Epoch 9/1000\n",
      "800/800 [==============================] - 6s 8ms/step - loss: 0.5417 - accuracy: 0.7835 - val_loss: 0.4694 - val_accuracy: 0.8050\n",
      "Epoch 10/1000\n",
      "800/800 [==============================] - 6s 8ms/step - loss: 0.5713 - accuracy: 0.7766 - val_loss: 0.4427 - val_accuracy: 0.8020\n",
      "Epoch 11/1000\n",
      "800/800 [==============================] - 7s 8ms/step - loss: 0.5932 - accuracy: 0.7728 - val_loss: 0.4577 - val_accuracy: 0.8150\n",
      "Epoch 12/1000\n",
      "800/800 [==============================] - 6s 8ms/step - loss: 0.6015 - accuracy: 0.7761 - val_loss: 0.4586 - val_accuracy: 0.8000\n",
      "Epoch 13/1000\n",
      "800/800 [==============================] - 6s 8ms/step - loss: 0.6186 - accuracy: 0.7709 - val_loss: 0.4765 - val_accuracy: 0.7980\n",
      "Epoch 14/1000\n",
      "800/800 [==============================] - 6s 8ms/step - loss: 0.6371 - accuracy: 0.7715 - val_loss: 0.4443 - val_accuracy: 0.8010\n",
      "Epoch 15/1000\n",
      "800/800 [==============================] - 6s 8ms/step - loss: 0.6408 - accuracy: 0.7750 - val_loss: 0.4513 - val_accuracy: 0.8160\n",
      "Epoch 16/1000\n",
      "800/800 [==============================] - 6s 8ms/step - loss: 0.6869 - accuracy: 0.7645 - val_loss: 0.4734 - val_accuracy: 0.8145\n",
      "Epoch 17/1000\n",
      "800/800 [==============================] - 6s 8ms/step - loss: 0.6898 - accuracy: 0.7669 - val_loss: 0.4862 - val_accuracy: 0.7915\n",
      "Epoch 18/1000\n",
      "800/800 [==============================] - 6s 8ms/step - loss: 0.6480 - accuracy: 0.7739 - val_loss: 0.4651 - val_accuracy: 0.8110\n",
      "Epoch 19/1000\n",
      "800/800 [==============================] - 6s 8ms/step - loss: 0.6432 - accuracy: 0.7776 - val_loss: 0.5055 - val_accuracy: 0.7920\n",
      "Epoch 20/1000\n",
      "800/800 [==============================] - 6s 8ms/step - loss: 0.6935 - accuracy: 0.7670 - val_loss: 0.4571 - val_accuracy: 0.7935\n",
      "Epoch 21/1000\n",
      "800/800 [==============================] - 6s 8ms/step - loss: 0.6895 - accuracy: 0.7661 - val_loss: 0.4959 - val_accuracy: 0.8055\n",
      "Epoch 22/1000\n",
      "800/800 [==============================] - 6s 8ms/step - loss: 0.6683 - accuracy: 0.7606 - val_loss: 0.6515 - val_accuracy: 0.8210\n",
      "Epoch 23/1000\n",
      "800/800 [==============================] - 6s 8ms/step - loss: 0.7011 - accuracy: 0.7598 - val_loss: 0.7061 - val_accuracy: 0.8235\n",
      "Epoch 24/1000\n",
      "800/800 [==============================] - 6s 8ms/step - loss: 0.6943 - accuracy: 0.7589 - val_loss: 0.5682 - val_accuracy: 0.8115\n",
      "Epoch 25/1000\n",
      "800/800 [==============================] - 6s 8ms/step - loss: 0.7105 - accuracy: 0.7566 - val_loss: 0.6097 - val_accuracy: 0.8165\n",
      "Epoch 26/1000\n",
      "800/800 [==============================] - 6s 8ms/step - loss: 0.7263 - accuracy: 0.7544 - val_loss: 0.4678 - val_accuracy: 0.8180\n",
      "Epoch 27/1000\n",
      "800/800 [==============================] - 6s 8ms/step - loss: 0.8161 - accuracy: 0.7444 - val_loss: 0.6614 - val_accuracy: 0.8205\n",
      "Epoch 28/1000\n",
      "800/800 [==============================] - 6s 8ms/step - loss: 0.7269 - accuracy: 0.7626 - val_loss: 0.7499 - val_accuracy: 0.7760\n",
      "Epoch 29/1000\n",
      "800/800 [==============================] - 6s 8ms/step - loss: 0.8567 - accuracy: 0.7495 - val_loss: 0.5620 - val_accuracy: 0.8070\n",
      "Epoch 30/1000\n",
      "800/800 [==============================] - 6s 8ms/step - loss: 0.7673 - accuracy: 0.7576 - val_loss: 0.4794 - val_accuracy: 0.7835\n",
      "Epoch 30: early stopping\n"
     ]
    }
   ],
   "source": [
    "model_history = classifier.fit(X_train_SD, y_train, validation_split=0.33, batch_size=10, epochs=1000, callbacks=early_stopping, validation_data=(X_test_SD,y_test))"
   ]
  },
  {
   "cell_type": "code",
   "execution_count": 25,
   "id": "2f88c768",
   "metadata": {},
   "outputs": [
    {
     "data": {
      "text/plain": [
       "dict_keys(['loss', 'accuracy', 'val_loss', 'val_accuracy'])"
      ]
     },
     "execution_count": 25,
     "metadata": {},
     "output_type": "execute_result"
    }
   ],
   "source": [
    "model_history.history.keys()"
   ]
  },
  {
   "cell_type": "code",
   "execution_count": 26,
   "id": "81f6f25d",
   "metadata": {},
   "outputs": [
    {
     "data": {
      "image/png": "[encoded data removed]",
      "text/plain": [
       "<Figure size 640x480 with 1 Axes>"
      ]
     },
     "metadata": {},
     "output_type": "display_data"
    }
   ],
   "source": [
    "#Summarize the model\n",
    "plt.plot(model_history.history['accuracy'])\n",
    "plt.plot(model_history.history['val_accuracy'])\n",
    "plt.title('model accuracy')\n",
    "plt.xlabel('epoch')\n",
    "plt.ylabel('accuracy')\n",
    "plt.legend(['train','test'], loc='upper left')\n",
    "plt.show()"
   ]
  },
  {
   "cell_type": "code",
   "execution_count": 27,
   "id": "f875d9dc",
   "metadata": {},
   "outputs": [
    {
     "data": {
      "image/png": "[encoded data removed]",
      "text/plain": [
       "<Figure size 640x480 with 1 Axes>"
      ]
     },
     "metadata": {},
     "output_type": "display_data"
    }
   ],
   "source": [
    "#Summarize the model\n",
    "plt.plot(model_history.history['loss'])\n",
    "plt.plot(model_history.history['val_loss'])\n",
    "plt.title('model accuracy')\n",
    "plt.xlabel('epoch')\n",
    "plt.ylabel('accuracy')\n",
    "plt.legend(['train','test'], loc='upper left')\n",
    "plt.show()"
   ]
  },
  {
   "cell_type": "markdown",
   "id": "25dc1a66",
   "metadata": {},
   "source": [
    "# Model Evalution"
   ]
  },
  {
   "cell_type": "code",
   "execution_count": 28,
   "id": "792c31e0",
   "metadata": {},
   "outputs": [
    {
     "name": "stdout",
     "output_type": "stream",
     "text": [
      "63/63 [==============================] - 0s 2ms/step\n"
     ]
    },
    {
     "name": "stderr",
     "output_type": "stream",
     "text": [
      "2023-07-12 23:11:05.576740: I tensorflow/core/grappler/optimizers/custom_graph_optimizer_registry.cc:114] Plugin optimizer for device_type GPU is enabled.\n"
     ]
    }
   ],
   "source": [
    "y_pred = classifier.predict(X_test_SD)\n",
    "y_pred = (y_pred >= 0.5)"
   ]
  },
  {
   "cell_type": "code",
   "execution_count": 29,
   "id": "0bd0a4a7",
   "metadata": {},
   "outputs": [],
   "source": [
    "from sklearn.metrics import confusion_matrix, accuracy_score"
   ]
  },
  {
   "cell_type": "code",
   "execution_count": 30,
   "id": "c777c133",
   "metadata": {},
   "outputs": [
    {
     "name": "stdout",
     "output_type": "stream",
     "text": [
      "[[1535   60]\n",
      " [ 373   32]]\n"
     ]
    }
   ],
   "source": [
    "print(confusion_matrix(y_test,y_pred))"
   ]
  },
  {
   "cell_type": "code",
   "execution_count": 31,
   "id": "b44f179f",
   "metadata": {},
   "outputs": [
    {
     "name": "stdout",
     "output_type": "stream",
     "text": [
      "0.7835\n"
     ]
    }
   ],
   "source": [
    "print(accuracy_score(y_test,y_pred))"
   ]
  },
  {
   "cell_type": "code",
   "execution_count": 32,
   "id": "134c173d",
   "metadata": {},
   "outputs": [
    {
     "data": {
      "text/plain": [
       "[array([[-3.25003624e-01, -3.17918956e-02, -3.65476668e-01,\n",
       "         -3.61859828e-01, -2.32075416e-02, -6.57294169e-02,\n",
       "         -1.34264782e-01, -1.30613551e-01, -1.14964284e-01,\n",
       "         -1.28290653e-01,  4.45783556e-01],\n",
       "        [ 2.87423420e+00, -3.28761506e+00,  4.07356691e+00,\n",
       "          4.45776272e+00,  3.15700459e+00, -2.19386101e-01,\n",
       "          1.41543895e-01,  6.91785216e-01,  6.07618392e-01,\n",
       "          1.17731404e+00, -3.45724511e+00],\n",
       "        [ 3.07485182e-03, -4.72392440e-01,  2.56257862e-01,\n",
       "          4.12905142e-02,  1.04795843e-01, -5.88045895e-01,\n",
       "         -1.21944062e-01, -1.03697471e-01, -9.84277427e-02,\n",
       "         -1.67851523e-01, -5.14098816e-02],\n",
       "        [-1.15738404e+00, -1.35143566e+00, -7.04638779e-01,\n",
       "         -1.82543933e+00,  7.10139215e-01, -1.02649617e+00,\n",
       "         -1.14183974e+00,  1.00027239e+00,  8.43833983e-01,\n",
       "          1.05714691e+00,  4.44809616e-01],\n",
       "        [-2.31815171e+00,  4.75518560e+00, -2.34489322e+00,\n",
       "         -2.90003204e+00,  3.86608791e+00, -1.89237118e+00,\n",
       "         -2.73237419e+00,  3.78742337e+00,  3.54400849e+00,\n",
       "          4.02104044e+00, -1.27725375e+00],\n",
       "        [ 9.94196627e-03, -5.17312109e-01,  2.37290964e-01,\n",
       "          2.46040419e-01, -4.33863960e-02, -2.80546248e-01,\n",
       "         -4.09173846e-01, -2.38118008e-01, -1.59894586e-01,\n",
       "         -1.29291058e-01, -1.08607471e-01],\n",
       "        [-4.19704616e-01, -1.57353914e+00,  2.00239277e+00,\n",
       "          7.72276044e-01,  1.48917496e+00, -2.62891674e+00,\n",
       "         -1.70290840e+00, -9.76819396e-01, -6.43375874e-01,\n",
       "         -7.37292290e-01,  9.92280602e-01],\n",
       "        [ 9.95165408e-02,  1.04822956e-01,  1.79703906e-01,\n",
       "         -2.47876570e-01, -1.17168166e-01,  1.07677020e-01,\n",
       "         -2.19351858e-01,  8.00420642e-02,  5.65145053e-02,\n",
       "          3.21989655e-02, -1.11180879e-01],\n",
       "        [ 1.14695203e+00, -1.09306186e-01,  2.67891735e-01,\n",
       "          1.35688233e+00, -5.59361935e-01,  1.94636714e+00,\n",
       "          8.80720198e-01,  8.09003264e-02, -1.75743759e-01,\n",
       "         -1.28026959e-03, -1.23691058e+00],\n",
       "        [-1.00507587e-01, -1.03956151e+00,  5.31060040e-01,\n",
       "          3.34794521e-01,  2.37399518e-01, -8.95783663e-01,\n",
       "         -3.92151624e-01,  1.16433121e-01,  8.52131322e-02,\n",
       "          1.06615208e-01, -3.06449383e-01],\n",
       "        [-3.33356053e-01,  5.31963170e-01,  1.08347930e-01,\n",
       "         -1.80832922e-01,  1.41254207e-02, -6.83097959e-01,\n",
       "         -1.69509843e-01, -5.56552112e-01, -3.68904740e-01,\n",
       "         -5.01243472e-01,  8.56692851e-01]], dtype=float32),\n",
       " array([ 1.0608127 ,  4.40193   ,  1.1801414 ,  3.1711528 , -0.45364907,\n",
       "         3.9656527 ,  2.0786347 , -1.8124591 , -1.963675  , -1.8093708 ,\n",
       "         1.6121167 ], dtype=float32),\n",
       " array([[-3.5609875 ,  0.09606515, -1.8537232 ,  3.0195928 ,  1.4044653 ,\n",
       "         -3.153783  ,  2.4900348 ],\n",
       "        [ 3.929963  , -0.23047923,  4.06618   , -2.709643  ,  4.1525874 ,\n",
       "          1.9229578 , -0.09259371],\n",
       "        [-2.996792  ,  4.1664267 , -4.0331783 ,  4.259009  , -0.9590535 ,\n",
       "         -3.6012154 , -0.06634754],\n",
       "        [-1.7111242 ,  2.9089327 , -0.8080438 ,  3.6137457 ,  2.0033164 ,\n",
       "         -2.1519659 ,  1.2848283 ],\n",
       "        [ 2.339301  ,  4.573771  , -2.223333  ,  1.8584416 , -3.8125305 ,\n",
       "          3.5868528 , -3.3038452 ],\n",
       "        [-1.209535  , -2.2749453 ,  1.4437425 ,  0.8192551 ,  5.365777  ,\n",
       "         -2.229805  ,  3.2801547 ],\n",
       "        [-3.2975924 , -3.2730777 ,  0.8336549 , -0.29293308,  0.81167436,\n",
       "         -2.3663578 ,  3.1626446 ],\n",
       "        [ 3.750968  , -1.387425  , -0.8385649 , -0.6520048 , -2.0321648 ,\n",
       "          4.694642  , -1.34267   ],\n",
       "        [ 4.2685804 , -1.2158648 , -1.3125949 , -1.1531293 , -4.119193  ,\n",
       "          4.7203565 , -0.60821015],\n",
       "        [ 4.387308  ,  0.7657036 , -2.1311414 , -0.9420985 , -3.5268168 ,\n",
       "          4.3618393 , -0.5895671 ],\n",
       "        [-2.1935053 , -2.2453232 ,  1.2647027 , -1.707779  , -1.0363756 ,\n",
       "         -2.1421018 , -3.4267302 ]], dtype=float32),\n",
       " array([ 0.8411938,  1.2577828,  2.3688161,  1.384998 ,  5.7571054,\n",
       "        -1.186374 ,  1.7103506], dtype=float32),\n",
       " array([[-3.2198675 , -2.2522526 ,  1.4054867 , -0.35354024, -0.9312498 ,\n",
       "          4.323822  ],\n",
       "        [-0.7859193 ,  3.7561507 , -4.0009017 ,  0.5162753 , -0.40812913,\n",
       "          0.9850927 ],\n",
       "        [-0.02449813, -4.639067  ,  5.200965  ,  1.8022078 , -0.10390867,\n",
       "         -0.8255205 ],\n",
       "        [ 0.89932567,  2.4350514 , -3.477822  ,  0.28856885,  0.28936353,\n",
       "         -2.3683643 ],\n",
       "        [ 2.2092333 , -4.7402067 ,  3.599151  , -0.7535177 , -0.14045724,\n",
       "         -4.354451  ],\n",
       "        [-3.989849  , -0.4612041 , -0.07677998,  0.07812469,  0.08103328,\n",
       "          5.61729   ],\n",
       "        [ 4.240399  , -1.5568888 ,  0.00835824,  0.20789818,  0.64712864,\n",
       "         -4.7333083 ]], dtype=float32),\n",
       " array([ 0.33533707,  0.30421534,  1.6895316 ,  0.6347418 , -0.57613033,\n",
       "        -2.5461454 ], dtype=float32),\n",
       " array([[ 0.00315999],\n",
       "        [-0.00361906],\n",
       "        [-0.00382317],\n",
       "        [-0.01413327],\n",
       "        [ 0.00531433],\n",
       "        [ 0.00249788]], dtype=float32),\n",
       " array([-2.066313], dtype=float32)]"
      ]
     },
     "execution_count": 32,
     "metadata": {},
     "output_type": "execute_result"
    }
   ],
   "source": [
    "# Get the weights\n",
    "classifier.get_weights()"
   ]
  },
  {
   "cell_type": "code",
   "execution_count": null,
   "id": "d0ac0bf7",
   "metadata": {},
   "outputs": [],
   "source": []
  }
 ],
 "metadata": {
  "kernelspec": {
   "display_name": "Python 3 (ipykernel)",
   "language": "python",
   "name": "python3"
  },
  "language_info": {
   "codemirror_mode": {
    "name": "ipython",
    "version": 3
   },
   "file_extension": ".py",
   "mimetype": "text/x-python",
   "name": "python",
   "nbconvert_exporter": "python",
   "pygments_lexer": "ipython3",
   "version": "3.10.12"
  }
 },
 "nbformat": 4,
 "nbformat_minor": 5
}
